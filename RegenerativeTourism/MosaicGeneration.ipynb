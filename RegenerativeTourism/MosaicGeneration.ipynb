def unir_tiles(folder_path):
    """Unir todos los tiles en un solo mosaico temporal."""
    raster_files = [os.path.join(folder_path, f) for f in os.listdir(folder_path) if f.endswith('.tif')]
    datasets = [rasterio.open(f) for f in raster_files]
    mosaic, transform = merge(datasets)
    meta = datasets[0].meta.copy()
    meta.update({"driver": "GTiff", "height": mosaic.shape[1], "width": mosaic.shape[2], "transform": transform, "count": mosaic.shape[0]})
    temp_path = "temp_mosaic.tif"
    with rasterio.open(temp_path, "w", **meta) as dest:
        dest.write(mosaic)
    for ds in datasets:
        ds.close()
    return temp_path
